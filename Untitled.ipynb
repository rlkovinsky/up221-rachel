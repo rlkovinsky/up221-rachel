{
 "cells": [
  {
   "cell_type": "code",
   "execution_count": 1,
   "id": "279dc364-ee42-4ea8-a489-8c04d238cc6d",
   "metadata": {},
   "outputs": [],
   "source": [
    "import pandas as pd"
   ]
  },
  {
   "cell_type": "code",
   "execution_count": 2,
   "id": "f6404583-c7b9-48b2-a2cb-3661919d80bc",
   "metadata": {},
   "outputs": [],
   "source": [
    "# load the data\n",
    "poverty = pd.read_csv('data/SFMedianIncome.csv')"
   ]
  },
  {
   "cell_type": "code",
   "execution_count": null,
   "id": "62c842b8-0f49-4726-86bf-9a943151ad0f",
   "metadata": {},
   "outputs": [],
   "source": []
  }
 ],
 "metadata": {
  "kernelspec": {
   "display_name": "Python 3 (ipykernel)",
   "language": "python",
   "name": "python3"
  },
  "language_info": {
   "codemirror_mode": {
    "name": "ipython",
    "version": 3
   },
   "file_extension": ".py",
   "mimetype": "text/x-python",
   "name": "python",
   "nbconvert_exporter": "python",
   "pygments_lexer": "ipython3",
   "version": "3.10.8"
  }
 },
 "nbformat": 4,
 "nbformat_minor": 5
}
